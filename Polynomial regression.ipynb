{
 "cells": [
  {
   "cell_type": "markdown",
   "metadata": {},
   "source": [
    "#### Polynomial regression"
   ]
  },
  {
   "cell_type": "markdown",
   "metadata": {},
   "source": [
    "#### We will be using Auto MPG data from UCI datasets (https://archive.ics.uci.edu/ml/datasets/Auto+MPG) to study polynomial regression."
   ]
  },
  {
   "cell_type": "code",
   "execution_count": 10,
   "metadata": {},
   "outputs": [],
   "source": [
    "%matplotlib inline\n",
    "import numpy as np\n",
    "import scipy as sp\n",
    "import scipy.stats as stats\n",
    "import pandas as pd\n",
    "import matplotlib.pyplot as plt\n",
    "import seaborn as sns\n",
    "# Set color map to have light blue background\n",
    "sns.set()\n",
    "import statsmodels.formula.api as smf\n",
    "import statsmodels.api as sm"
   ]
  },
  {
   "cell_type": "code",
   "execution_count": 11,
   "metadata": {},
   "outputs": [
    {
     "name": "stdout",
     "output_type": "stream",
     "text": [
      "<class 'pandas.core.frame.DataFrame'>\n",
      "RangeIndex: 398 entries, 0 to 397\n",
      "Data columns (total 9 columns):\n",
      " #   Column        Non-Null Count  Dtype  \n",
      "---  ------        --------------  -----  \n",
      " 0   mpg           398 non-null    float64\n",
      " 1   cylinders     398 non-null    int64  \n",
      " 2   displacement  398 non-null    float64\n",
      " 3   horsepower    398 non-null    object \n",
      " 4   weight        398 non-null    float64\n",
      " 5   acceleration  398 non-null    float64\n",
      " 6   model_year    398 non-null    int64  \n",
      " 7   origin        398 non-null    int64  \n",
      " 8   car_name      398 non-null    object \n",
      "dtypes: float64(4), int64(3), object(2)\n",
      "memory usage: 28.1+ KB\n",
      "None\n"
     ]
    },
    {
     "data": {
      "text/html": [
       "<div>\n",
       "<style scoped>\n",
       "    .dataframe tbody tr th:only-of-type {\n",
       "        vertical-align: middle;\n",
       "    }\n",
       "\n",
       "    .dataframe tbody tr th {\n",
       "        vertical-align: top;\n",
       "    }\n",
       "\n",
       "    .dataframe thead th {\n",
       "        text-align: right;\n",
       "    }\n",
       "</style>\n",
       "<table border=\"1\" class=\"dataframe\">\n",
       "  <thead>\n",
       "    <tr style=\"text-align: right;\">\n",
       "      <th></th>\n",
       "      <th>mpg</th>\n",
       "      <th>cylinders</th>\n",
       "      <th>displacement</th>\n",
       "      <th>weight</th>\n",
       "      <th>acceleration</th>\n",
       "      <th>model_year</th>\n",
       "      <th>origin</th>\n",
       "    </tr>\n",
       "  </thead>\n",
       "  <tbody>\n",
       "    <tr>\n",
       "      <th>count</th>\n",
       "      <td>398.000000</td>\n",
       "      <td>398.000000</td>\n",
       "      <td>398.000000</td>\n",
       "      <td>398.000000</td>\n",
       "      <td>398.000000</td>\n",
       "      <td>398.000000</td>\n",
       "      <td>398.000000</td>\n",
       "    </tr>\n",
       "    <tr>\n",
       "      <th>mean</th>\n",
       "      <td>23.514573</td>\n",
       "      <td>5.454774</td>\n",
       "      <td>193.425879</td>\n",
       "      <td>2970.424623</td>\n",
       "      <td>15.568090</td>\n",
       "      <td>76.010050</td>\n",
       "      <td>1.572864</td>\n",
       "    </tr>\n",
       "    <tr>\n",
       "      <th>std</th>\n",
       "      <td>7.815984</td>\n",
       "      <td>1.701004</td>\n",
       "      <td>104.269838</td>\n",
       "      <td>846.841774</td>\n",
       "      <td>2.757689</td>\n",
       "      <td>3.697627</td>\n",
       "      <td>0.802055</td>\n",
       "    </tr>\n",
       "    <tr>\n",
       "      <th>min</th>\n",
       "      <td>9.000000</td>\n",
       "      <td>3.000000</td>\n",
       "      <td>68.000000</td>\n",
       "      <td>1613.000000</td>\n",
       "      <td>8.000000</td>\n",
       "      <td>70.000000</td>\n",
       "      <td>1.000000</td>\n",
       "    </tr>\n",
       "    <tr>\n",
       "      <th>25%</th>\n",
       "      <td>17.500000</td>\n",
       "      <td>4.000000</td>\n",
       "      <td>104.250000</td>\n",
       "      <td>2223.750000</td>\n",
       "      <td>13.825000</td>\n",
       "      <td>73.000000</td>\n",
       "      <td>1.000000</td>\n",
       "    </tr>\n",
       "    <tr>\n",
       "      <th>50%</th>\n",
       "      <td>23.000000</td>\n",
       "      <td>4.000000</td>\n",
       "      <td>148.500000</td>\n",
       "      <td>2803.500000</td>\n",
       "      <td>15.500000</td>\n",
       "      <td>76.000000</td>\n",
       "      <td>1.000000</td>\n",
       "    </tr>\n",
       "    <tr>\n",
       "      <th>75%</th>\n",
       "      <td>29.000000</td>\n",
       "      <td>8.000000</td>\n",
       "      <td>262.000000</td>\n",
       "      <td>3608.000000</td>\n",
       "      <td>17.175000</td>\n",
       "      <td>79.000000</td>\n",
       "      <td>2.000000</td>\n",
       "    </tr>\n",
       "    <tr>\n",
       "      <th>max</th>\n",
       "      <td>46.600000</td>\n",
       "      <td>8.000000</td>\n",
       "      <td>455.000000</td>\n",
       "      <td>5140.000000</td>\n",
       "      <td>24.800000</td>\n",
       "      <td>82.000000</td>\n",
       "      <td>3.000000</td>\n",
       "    </tr>\n",
       "  </tbody>\n",
       "</table>\n",
       "</div>"
      ],
      "text/plain": [
       "              mpg   cylinders  displacement       weight  acceleration  \\\n",
       "count  398.000000  398.000000    398.000000   398.000000    398.000000   \n",
       "mean    23.514573    5.454774    193.425879  2970.424623     15.568090   \n",
       "std      7.815984    1.701004    104.269838   846.841774      2.757689   \n",
       "min      9.000000    3.000000     68.000000  1613.000000      8.000000   \n",
       "25%     17.500000    4.000000    104.250000  2223.750000     13.825000   \n",
       "50%     23.000000    4.000000    148.500000  2803.500000     15.500000   \n",
       "75%     29.000000    8.000000    262.000000  3608.000000     17.175000   \n",
       "max     46.600000    8.000000    455.000000  5140.000000     24.800000   \n",
       "\n",
       "       model_year      origin  \n",
       "count  398.000000  398.000000  \n",
       "mean    76.010050    1.572864  \n",
       "std      3.697627    0.802055  \n",
       "min     70.000000    1.000000  \n",
       "25%     73.000000    1.000000  \n",
       "50%     76.000000    1.000000  \n",
       "75%     79.000000    2.000000  \n",
       "max     82.000000    3.000000  "
      ]
     },
     "execution_count": 11,
     "metadata": {},
     "output_type": "execute_result"
    }
   ],
   "source": [
    "columns = ['mpg','cylinders','displacement','horsepower','weight','acceleration','model_year','origin','car_name']\n",
    "df = pd.read_csv(\"auto-mpg.data\", header=None, delimiter=r\"\\s+\", names=columns) \n",
    "print(df.info())\n",
    "df.describe()"
   ]
  },
  {
   "cell_type": "code",
   "execution_count": 12,
   "metadata": {},
   "outputs": [
    {
     "name": "stdout",
     "output_type": "stream",
     "text": [
      "<class 'pandas.core.frame.DataFrame'>\n",
      "Int64Index: 392 entries, 0 to 397\n",
      "Data columns (total 8 columns):\n",
      " #   Column        Non-Null Count  Dtype  \n",
      "---  ------        --------------  -----  \n",
      " 0   mpg           392 non-null    float64\n",
      " 1   cylinders     392 non-null    int64  \n",
      " 2   displacement  392 non-null    float64\n",
      " 3   horsepower    392 non-null    float64\n",
      " 4   weight        392 non-null    float64\n",
      " 5   acceleration  392 non-null    float64\n",
      " 6   model_year    392 non-null    int64  \n",
      " 7   origin        392 non-null    int64  \n",
      "dtypes: float64(5), int64(3)\n",
      "memory usage: 27.6 KB\n",
      "None\n"
     ]
    }
   ],
   "source": [
    "# fix data types\n",
    "df['horsepower'] = pd.to_numeric(df['horsepower'], errors='coerce')\n",
    "# remove null or undefined values\n",
    "df = df.dropna()\n",
    "# drop the column car_name\n",
    "df = df.drop('car_name', axis=1)\n",
    "# print the info of the cleaned data frame\n",
    "print(df.info())"
   ]
  },
  {
   "cell_type": "code",
   "execution_count": 13,
   "metadata": {},
   "outputs": [
    {
     "name": "stdout",
     "output_type": "stream",
     "text": [
      "R-squared for cylinders: 0.60\n",
      "R-squared for displacement: 0.65\n",
      "R-squared for horsepower: 0.61\n",
      "R-squared for weight: 0.69\n",
      "R-squared for acceleration: 0.18\n",
      "R-squared for model_year: 0.34\n",
      "R-squared for origin: 0.32\n"
     ]
    }
   ],
   "source": [
    "import statsmodels.formula.api as smf\n",
    "from sklearn.model_selection import train_test_split\n",
    "import pandas as pd\n",
    "\n",
    "# separate target variable from features\n",
    "X = df.drop('mpg', axis=1)\n",
    "y = df['mpg']\n",
    "\n",
    "for col in X.columns:\n",
    "    # create a DataFrame with the predictor variable and target variable\n",
    "    df_train = pd.concat([X[col], y], axis=1)\n",
    "\n",
    "    # fit a simple linear regression model with the current feature as predictor\n",
    "    model = smf.ols(f'mpg ~ {col}', data=df_train).fit()\n",
    "\n",
    "    # print the R-squared value\n",
    "    print(f'R-squared for {col}: {model.rsquared:.2f}')\n",
    "    \n"
   ]
  },
  {
   "cell_type": "code",
   "execution_count": 14,
   "metadata": {},
   "outputs": [
    {
     "name": "stdout",
     "output_type": "stream",
     "text": [
      "mpg ~ np.power(weight, 1)\n",
      "mpg ~ np.power(weight, 1) + np.power(weight, 2)\n",
      "mpg ~ np.power(weight, 1) + np.power(weight, 2) + np.power(weight, 3)\n",
      "mpg ~ np.power(weight, 1) + np.power(weight, 2) + np.power(weight, 3) + np.power(weight, 4)\n",
      "mpg ~ np.power(weight, 1) + np.power(weight, 2) + np.power(weight, 3) + np.power(weight, 4) + np.power(weight, 5)\n",
      "mpg ~ np.power(weight, 1) + np.power(weight, 2) + np.power(weight, 3) + np.power(weight, 4) + np.power(weight, 5) + np.power(weight, 6)\n",
      "mpg ~ np.power(weight, 1) + np.power(weight, 2) + np.power(weight, 3) + np.power(weight, 4) + np.power(weight, 5) + np.power(weight, 6) + np.power(weight, 7)\n",
      "mpg ~ np.power(weight, 1) + np.power(weight, 2) + np.power(weight, 3) + np.power(weight, 4) + np.power(weight, 5) + np.power(weight, 6) + np.power(weight, 7) + np.power(weight, 8)\n",
      "mpg ~ np.power(weight, 1) + np.power(weight, 2) + np.power(weight, 3) + np.power(weight, 4) + np.power(weight, 5) + np.power(weight, 6) + np.power(weight, 7) + np.power(weight, 8) + np.power(weight, 9)\n",
      "mpg ~ np.power(weight, 1) + np.power(weight, 2) + np.power(weight, 3) + np.power(weight, 4) + np.power(weight, 5) + np.power(weight, 6) + np.power(weight, 7) + np.power(weight, 8) + np.power(weight, 9) + np.power(weight, 10)\n",
      "Degree 1: R-squared = 0.6926304331\n",
      "Degree 2: R-squared = 0.7151475558\n",
      "Degree 3: R-squared = 0.7151495955\n",
      "Degree 4: R-squared = 0.7148116457\n",
      "Degree 5: R-squared = 0.6934461053\n",
      "Degree 6: R-squared = 0.5888075334\n",
      "Degree 7: R-squared = 0.2964066642\n",
      "Degree 8: R-squared = -0.2877883374\n",
      "Degree 9: R-squared = -1.1855766593\n",
      "Degree 10: R-squared = -2.2860186618\n",
      "\n",
      "Best degree: 3 (R-squared = 0.71515)\n"
     ]
    }
   ],
   "source": [
    "import statsmodels.formula.api as smf\n",
    "from sklearn.model_selection import train_test_split\n",
    "import pandas as pd\n",
    "\n",
    "\n",
    "# separate target variable from features\n",
    "X = df.drop('mpg', axis=1)\n",
    "y = df['mpg']\n",
    "\n",
    "# # split data into training and testing sets\n",
    "# X_train, X_test, y_train, y_test = train_test_split(X, y, test_size=0.2, random_state=42)\n",
    "\n",
    "import statsmodels.formula.api as smf\n",
    "import numpy as np\n",
    "\n",
    "# create a DataFrame with the predictor variable and target variable\n",
    "df_train = pd.concat([X['weight'], y], axis=1)\n",
    "\n",
    "# define the maximum degree of polynomial regression\n",
    "max_degree = 10\n",
    "\n",
    "# initialize a dictionary to store the R-squared values for each degree\n",
    "r_squared = {}\n",
    "\n",
    "# fit polynomial regression models with degrees up to max_degree\n",
    "for degree in range(1, max_degree+1):\n",
    "    # add polynomial terms up to the current degree\n",
    "    formula = 'mpg ~ '\n",
    "    for i in range(1, degree+1):\n",
    "        formula += f'np.power(weight, {i}) + '\n",
    "    formula = formula[:-3]  # remove the last '+'\n",
    "\n",
    "    # fit the polynomial regression model\n",
    "    print(formula)\n",
    "    model = smf.ols(formula=formula, data=df_train).fit()\n",
    "    \n",
    "\n",
    "    # store the R-squared value\n",
    "    r_squared[degree] = model.rsquared\n",
    "\n",
    "# print the R-squared values for each degree\n",
    "for degree, r2 in r_squared.items():\n",
    "    print(f\"Degree {degree}: R-squared = {r2:.10f}\")\n",
    "\n",
    "# find the degree with the highest R-squared value\n",
    "best_degree = max(r_squared, key=r_squared.get)\n",
    "print(f\"\\nBest degree: {best_degree} (R-squared = {r_squared[best_degree]:.5f})\")"
   ]
  },
  {
   "cell_type": "code",
   "execution_count": 9,
   "metadata": {},
   "outputs": [
    {
     "data": {
      "image/png": "[encoded data removed]",
      "text/plain": [
       "<Figure size 432x288 with 1 Axes>"
      ]
     },
     "metadata": {},
     "output_type": "display_data"
    }
   ],
   "source": [
    "import matplotlib.pyplot as plt\n",
    "\n",
    "# Define the x and y values for the plot\n",
    "x = list(r_squared.keys())\n",
    "y = list(r_squared.values())\n",
    "\n",
    "# Plot the R-squared values\n",
    "plt.plot(x, y, marker='o')\n",
    "plt.xlabel('Degree of Polynomial Regression')\n",
    "plt.ylabel('R-squared')\n",
    "plt.title('R-squared vs. Degree of Polynomial Regression')\n",
    "plt.show()"
   ]
  }
 ],
 "metadata": {
  "kernelspec": {
   "display_name": "Python 3",
   "language": "python",
   "name": "python3"
  },
  "language_info": {
   "codemirror_mode": {
    "name": "ipython",
    "version": 3
   },
   "file_extension": ".py",
   "mimetype": "text/x-python",
   "name": "python",
   "nbconvert_exporter": "python",
   "pygments_lexer": "ipython3",
   "version": "3.8.3"
  }
 },
 "nbformat": 4,
 "nbformat_minor": 4
}
