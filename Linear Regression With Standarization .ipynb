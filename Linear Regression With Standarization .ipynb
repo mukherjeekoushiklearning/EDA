{
 "cells": [
  {
   "cell_type": "code",
   "execution_count": 57,
   "metadata": {},
   "outputs": [],
   "source": [
    "import pandas as pd\n",
    "\n",
    "# Read the CSV file and create a dataframe\n",
    "df = pd.read_csv('turtle.csv')"
   ]
  },
  {
   "cell_type": "code",
   "execution_count": 58,
   "metadata": {},
   "outputs": [
    {
     "data": {
      "text/html": [
       "<div>\n",
       "<style scoped>\n",
       "    .dataframe tbody tr th:only-of-type {\n",
       "        vertical-align: middle;\n",
       "    }\n",
       "\n",
       "    .dataframe tbody tr th {\n",
       "        vertical-align: top;\n",
       "    }\n",
       "\n",
       "    .dataframe thead th {\n",
       "        text-align: right;\n",
       "    }\n",
       "</style>\n",
       "<table border=\"1\" class=\"dataframe\">\n",
       "  <thead>\n",
       "    <tr style=\"text-align: right;\">\n",
       "      <th></th>\n",
       "      <th>age</th>\n",
       "      <th>income</th>\n",
       "      <th>Bird_rating</th>\n",
       "    </tr>\n",
       "  </thead>\n",
       "  <tbody>\n",
       "    <tr>\n",
       "      <th>0</th>\n",
       "      <td>33</td>\n",
       "      <td>66400</td>\n",
       "      <td>1</td>\n",
       "    </tr>\n",
       "    <tr>\n",
       "      <th>1</th>\n",
       "      <td>40</td>\n",
       "      <td>55600</td>\n",
       "      <td>-2</td>\n",
       "    </tr>\n",
       "    <tr>\n",
       "      <th>2</th>\n",
       "      <td>76</td>\n",
       "      <td>73400</td>\n",
       "      <td>-1</td>\n",
       "    </tr>\n",
       "    <tr>\n",
       "      <th>3</th>\n",
       "      <td>46</td>\n",
       "      <td>73200</td>\n",
       "      <td>-4</td>\n",
       "    </tr>\n",
       "    <tr>\n",
       "      <th>4</th>\n",
       "      <td>47</td>\n",
       "      <td>72300</td>\n",
       "      <td>-4</td>\n",
       "    </tr>\n",
       "  </tbody>\n",
       "</table>\n",
       "</div>"
      ],
      "text/plain": [
       "   age  income  Bird_rating\n",
       "0   33   66400            1\n",
       "1   40   55600           -2\n",
       "2   76   73400           -1\n",
       "3   46   73200           -4\n",
       "4   47   72300           -4"
      ]
     },
     "execution_count": 58,
     "metadata": {},
     "output_type": "execute_result"
    }
   ],
   "source": [
    "df.head()\n",
    "#Yearly Salary/Income"
   ]
  },
  {
   "cell_type": "code",
   "execution_count": 38,
   "metadata": {},
   "outputs": [
    {
     "data": {
      "image/png": "[encoded data removed]",
      "text/plain": [
       "<Figure size 432x288 with 1 Axes>"
      ]
     },
     "metadata": {
      "needs_background": "light"
     },
     "output_type": "display_data"
    },
    {
     "data": {
      "image/png": "[encoded data removed]",
      "text/plain": [
       "<Figure size 432x288 with 1 Axes>"
      ]
     },
     "metadata": {
      "needs_background": "light"
     },
     "output_type": "display_data"
    }
   ],
   "source": [
    "import matplotlib.pyplot as plt\n",
    "\n",
    "# Plot histogram of age\n",
    "plt.hist(df['age'], bins=10, edgecolor='black')\n",
    "plt.xlabel('Age')\n",
    "plt.ylabel('Frequency')\n",
    "plt.title('Histogram of Age')\n",
    "plt.show()\n",
    "\n",
    "# Plot histogram of income\n",
    "plt.hist(df['income'], bins=10, edgecolor='black')\n",
    "plt.xlabel('Income')\n",
    "plt.ylabel('Frequency')\n",
    "plt.title('Histogram of Income')\n",
    "plt.show()"
   ]
  },
  {
   "cell_type": "code",
   "execution_count": 39,
   "metadata": {},
   "outputs": [
    {
     "data": {
      "image/png": "[encoded data removed]",
      "text/plain": [
       "<Figure size 432x288 with 1 Axes>"
      ]
     },
     "metadata": {
      "needs_background": "light"
     },
     "output_type": "display_data"
    }
   ],
   "source": [
    "# Create a scatter plot of age vs. income\n",
    "plt.scatter(df['age'], df['income'])\n",
    "plt.xlabel('Age')\n",
    "plt.ylabel('Income')\n",
    "plt.title('Scatter Plot of Age vs. Income')\n",
    "plt.show()"
   ]
  },
  {
   "cell_type": "markdown",
   "metadata": {},
   "source": [
    "`Intercept` parameter is interpreted as the `mean of the response` when `each predictor is zero`.  \n",
    "* Here predictors are age and income and response is Bird_rating"
   ]
  },
  {
   "cell_type": "markdown",
   "metadata": {},
   "source": [
    "`slope` parameter in multiple linear regression is interpreted as the `average change in the response for a one-unit increase in the value of the corresponding predictor, holding other predictors constant`."
   ]
  },
  {
   "cell_type": "markdown",
   "metadata": {},
   "source": [
    "* We have two problems :- \n",
    "    \n",
    "    1. `zero is not a meaningful value for the age predictor`.\n",
    "    2. `do we really care about how a \"one dollar increase in (yearly) salary\" impacts Bird_rating? Probably not. It would be more convenient to interpret the change Bird_rating with respect to bigger jumps in income, say, one thousand dollar increases.`"
   ]
  },
  {
   "cell_type": "markdown",
   "metadata": {},
   "source": [
    "To better assess and interpret the affect of the predictors on Bird_rating, we can changes our scales! Let's start by centering our data, which requires setting the mean of each predictor equal to  0 and then we can subtract the mean value of each predictor from each value. "
   ]
  },
  {
   "cell_type": "code",
   "execution_count": 40,
   "metadata": {},
   "outputs": [
    {
     "data": {
      "image/png": "[encoded data removed]",
      "text/plain": [
       "<Figure size 432x288 with 1 Axes>"
      ]
     },
     "metadata": {
      "needs_background": "light"
     },
     "output_type": "display_data"
    }
   ],
   "source": [
    "# Center the age and income data\n",
    "age_centered = df['age'] - df['age'].mean()\n",
    "income_centered = df['income'] - df['income'].mean()\n",
    "\n",
    "# Create a data frame with the centered data\n",
    "df_centered = pd.DataFrame({'age': age_centered, 'income': income_centered})\n",
    "\n",
    "# Plot a scatter plot using the centered data\n",
    "plt.scatter(df_centered['age'], df_centered['income'])\n",
    "plt.xlabel('Centered Age')\n",
    "plt.ylabel('Centered Income')\n",
    "plt.title('Scatter Plot of Centered Income vs. Centered Age')\n",
    "plt.show()"
   ]
  },
  {
   "cell_type": "code",
   "execution_count": 41,
   "metadata": {},
   "outputs": [
    {
     "data": {
      "text/html": [
       "<div>\n",
       "<style scoped>\n",
       "    .dataframe tbody tr th:only-of-type {\n",
       "        vertical-align: middle;\n",
       "    }\n",
       "\n",
       "    .dataframe tbody tr th {\n",
       "        vertical-align: top;\n",
       "    }\n",
       "\n",
       "    .dataframe thead th {\n",
       "        text-align: right;\n",
       "    }\n",
       "</style>\n",
       "<table border=\"1\" class=\"dataframe\">\n",
       "  <thead>\n",
       "    <tr style=\"text-align: right;\">\n",
       "      <th></th>\n",
       "      <th>age</th>\n",
       "      <th>income</th>\n",
       "    </tr>\n",
       "  </thead>\n",
       "  <tbody>\n",
       "    <tr>\n",
       "      <th>0</th>\n",
       "      <td>-10.633333</td>\n",
       "      <td>3723.333333</td>\n",
       "    </tr>\n",
       "    <tr>\n",
       "      <th>1</th>\n",
       "      <td>-3.633333</td>\n",
       "      <td>-7076.666667</td>\n",
       "    </tr>\n",
       "    <tr>\n",
       "      <th>2</th>\n",
       "      <td>32.366667</td>\n",
       "      <td>10723.333333</td>\n",
       "    </tr>\n",
       "    <tr>\n",
       "      <th>3</th>\n",
       "      <td>2.366667</td>\n",
       "      <td>10523.333333</td>\n",
       "    </tr>\n",
       "    <tr>\n",
       "      <th>4</th>\n",
       "      <td>3.366667</td>\n",
       "      <td>9623.333333</td>\n",
       "    </tr>\n",
       "  </tbody>\n",
       "</table>\n",
       "</div>"
      ],
      "text/plain": [
       "         age        income\n",
       "0 -10.633333   3723.333333\n",
       "1  -3.633333  -7076.666667\n",
       "2  32.366667  10723.333333\n",
       "3   2.366667  10523.333333\n",
       "4   3.366667   9623.333333"
      ]
     },
     "execution_count": 41,
     "metadata": {},
     "output_type": "execute_result"
    }
   ],
   "source": [
    "df_centered.head()"
   ]
  },
  {
   "cell_type": "code",
   "execution_count": 42,
   "metadata": {},
   "outputs": [],
   "source": [
    "#https://www.theanalysisfactor.com/center-on-the-mean/"
   ]
  },
  {
   "cell_type": "code",
   "execution_count": 43,
   "metadata": {},
   "outputs": [],
   "source": [
    "# This approach will solve our intercept problem."
   ]
  },
  {
   "cell_type": "markdown",
   "metadata": {},
   "source": [
    "Still the range of the predictors is very different, which means that our slope interpretations will still be awkward. \n",
    "\n",
    "Solution: -\n",
    "\n",
    "We know that the `\"spread\"` of a variable is represented by its standard deviation. \n",
    "Therefore, if we divide the centered predictors by their standard deviation, the new \"standardized\" age and income variables will both have the same spread. \n",
    " \n",
    "Note that the `process of both centering and scaling data' is called 'standardizing`."
   ]
  },
  {
   "cell_type": "code",
   "execution_count": 44,
   "metadata": {},
   "outputs": [],
   "source": [
    "from sklearn.preprocessing import StandardScaler\n",
    "import matplotlib.pyplot as plt\n",
    "import seaborn as sns"
   ]
  },
  {
   "cell_type": "code",
   "execution_count": 45,
   "metadata": {},
   "outputs": [
    {
     "data": {
      "image/png": "[encoded data removed]",
      "text/plain": [
       "<Figure size 432x288 with 1 Axes>"
      ]
     },
     "metadata": {
      "needs_background": "light"
     },
     "output_type": "display_data"
    }
   ],
   "source": [
    "# Standardize the age and income predictors\n",
    "scaler = StandardScaler()\n",
    "age_stand = scaler.fit_transform(df[['age']])\n",
    "income_stand = scaler.fit_transform(df[['income']])\n",
    "\n",
    "# Create a data frame with the standardized data\n",
    "df_stand = pd.DataFrame({'age': age_stand.flatten(), 'income': income_stand.flatten(), 'Bird_rating': df['Bird_rating']})\n",
    "\n",
    "# Plot the standardized data using ggplot\n",
    "g_stand = sns.scatterplot(data=df_stand, x='age', y='income')\n",
    "g_stand.set(title='Scatterplot of Standardized Income vs. Standardized Age')\n",
    "plt.show()"
   ]
  },
  {
   "cell_type": "code",
   "execution_count": 46,
   "metadata": {},
   "outputs": [
    {
     "data": {
      "text/html": [
       "<div>\n",
       "<style scoped>\n",
       "    .dataframe tbody tr th:only-of-type {\n",
       "        vertical-align: middle;\n",
       "    }\n",
       "\n",
       "    .dataframe tbody tr th {\n",
       "        vertical-align: top;\n",
       "    }\n",
       "\n",
       "    .dataframe thead th {\n",
       "        text-align: right;\n",
       "    }\n",
       "</style>\n",
       "<table border=\"1\" class=\"dataframe\">\n",
       "  <thead>\n",
       "    <tr style=\"text-align: right;\">\n",
       "      <th></th>\n",
       "      <th>age</th>\n",
       "      <th>income</th>\n",
       "      <th>Bird_rating</th>\n",
       "    </tr>\n",
       "  </thead>\n",
       "  <tbody>\n",
       "    <tr>\n",
       "      <th>0</th>\n",
       "      <td>-0.549666</td>\n",
       "      <td>0.302668</td>\n",
       "      <td>1</td>\n",
       "    </tr>\n",
       "    <tr>\n",
       "      <th>1</th>\n",
       "      <td>-0.187817</td>\n",
       "      <td>-0.575259</td>\n",
       "      <td>-2</td>\n",
       "    </tr>\n",
       "    <tr>\n",
       "      <th>2</th>\n",
       "      <td>1.673121</td>\n",
       "      <td>0.871695</td>\n",
       "      <td>-1</td>\n",
       "    </tr>\n",
       "    <tr>\n",
       "      <th>3</th>\n",
       "      <td>0.122339</td>\n",
       "      <td>0.855437</td>\n",
       "      <td>-4</td>\n",
       "    </tr>\n",
       "    <tr>\n",
       "      <th>4</th>\n",
       "      <td>0.174032</td>\n",
       "      <td>0.782277</td>\n",
       "      <td>-4</td>\n",
       "    </tr>\n",
       "  </tbody>\n",
       "</table>\n",
       "</div>"
      ],
      "text/plain": [
       "        age    income  Bird_rating\n",
       "0 -0.549666  0.302668            1\n",
       "1 -0.187817 -0.575259           -2\n",
       "2  1.673121  0.871695           -1\n",
       "3  0.122339  0.855437           -4\n",
       "4  0.174032  0.782277           -4"
      ]
     },
     "execution_count": 46,
     "metadata": {},
     "output_type": "execute_result"
    }
   ],
   "source": [
    "df_stand.head()"
   ]
  },
  {
   "cell_type": "markdown",
   "metadata": {},
   "source": [
    "Note that this should fix the interpretation of the slope parameters: \n",
    "\n",
    "Note :- Remember if `we were to use the standardized variables` in a `regression`, a `\"one-unit increase\"` would be a `\"one-standard deviation increase\"!`"
   ]
  },
  {
   "cell_type": "markdown",
   "metadata": {},
   "source": [
    "So we just did a bunch of math, and now people can have a negative age and income? Of course not! Instead, we've just changed the units; the new units measure income but are centered at zero, with a \"standard\" spread. In addition, the order of the data is still preserved. Let's visualize the resulting predictors!"
   ]
  },
  {
   "cell_type": "code",
   "execution_count": 47,
   "metadata": {},
   "outputs": [
    {
     "data": {
      "image/png": "[encoded data removed]",
      "text/plain": [
       "<Figure size 432x288 with 1 Axes>"
      ]
     },
     "metadata": {
      "needs_background": "light"
     },
     "output_type": "display_data"
    },
    {
     "data": {
      "image/png": "[encoded data removed]",
      "text/plain": [
       "<Figure size 432x288 with 1 Axes>"
      ]
     },
     "metadata": {
      "needs_background": "light"
     },
     "output_type": "display_data"
    }
   ],
   "source": [
    "import matplotlib.pyplot as plt\n",
    "\n",
    "# Plot histogram of age\n",
    "plt.hist(df_stand['age'], bins=10, edgecolor='black')\n",
    "plt.xlabel('Age')\n",
    "plt.ylabel('Frequency')\n",
    "plt.title('Histogram of Age')\n",
    "plt.show()\n",
    "\n",
    "# Plot histogram of income\n",
    "plt.hist(df_stand['income'], bins=10, edgecolor='black')\n",
    "plt.xlabel('Income')\n",
    "plt.ylabel('Frequency')\n",
    "plt.title('Histogram of Income')\n",
    "plt.show()"
   ]
  },
  {
   "cell_type": "markdown",
   "metadata": {},
   "source": [
    "Now that we have standardized versions of the predictors, let's see how they are related to the response variable\n",
    "\n",
    "* `we made a claim that standardizing the data could affect our best fit line. Let's see if that claim is true.`"
   ]
  },
  {
   "cell_type": "code",
   "execution_count": 62,
   "metadata": {},
   "outputs": [
    {
     "data": {
      "image/png": "[encoded data removed]",
      "text/plain": [
       "<Figure size 432x288 with 1 Axes>"
      ]
     },
     "metadata": {
      "needs_background": "light"
     },
     "output_type": "display_data"
    },
    {
     "name": "stdout",
     "output_type": "stream",
     "text": [
      "Bird  Slope: -6.339418588780016e-05\n"
     ]
    }
   ],
   "source": [
    "# Create scatterplot\n",
    "plt.scatter(df['income'], df['Bird_rating'])\n",
    "plt.xlabel('Income')\n",
    "plt.ylabel('Bird  Rating')\n",
    "plt.title('Scatterplot of Bird  Rating vs. Income')\n",
    "\n",
    "# Fit a linear regression model\n",
    "coefficients = np.polyfit(df['income'], df['Bird_rating'], 1)\n",
    "Bird_slope = coefficients[0]\n",
    "\n",
    "# Display the scatterplot\n",
    "plt.show()\n",
    "\n",
    "print('Bird  Slope:', Bird_slope)"
   ]
  },
  {
   "cell_type": "code",
   "execution_count": 49,
   "metadata": {},
   "outputs": [
    {
     "data": {
      "image/png": "[encoded data removed]",
      "text/plain": [
       "<Figure size 432x288 with 1 Axes>"
      ]
     },
     "metadata": {
      "needs_background": "light"
     },
     "output_type": "display_data"
    }
   ],
   "source": [
    "# Create scatterplot with regression line\n",
    "sns.regplot(x='income', y='Bird_rating', data=df, color='blue', scatter_kws={'color': 'black'})\n",
    "plt.xlabel('Income')\n",
    "plt.ylabel('Bird Rating')\n",
    "plt.title('Scatterplot of Turtle Rating vs. Income')\n",
    "\n",
    "# Display the scatterplot with regression line\n",
    "plt.show()"
   ]
  },
  {
   "cell_type": "markdown",
   "metadata": {},
   "source": [
    "Do the same work With \"standardized data\""
   ]
  },
  {
   "cell_type": "code",
   "execution_count": 50,
   "metadata": {},
   "outputs": [
    {
     "data": {
      "image/png": "[encoded data removed]",
      "text/plain": [
       "<Figure size 432x288 with 1 Axes>"
      ]
     },
     "metadata": {
      "needs_background": "light"
     },
     "output_type": "display_data"
    },
    {
     "name": "stdout",
     "output_type": "stream",
     "text": [
      "Bird Slope: -0.779856168927211\n"
     ]
    }
   ],
   "source": [
    "# Create scatterplot\n",
    "plt.scatter(df_stand['income'], df_stand['Bird_rating'])\n",
    "plt.xlabel('Income')\n",
    "plt.ylabel('Bird Rating')\n",
    "plt.title('Scatterplot of Bird Rating vs. Income')\n",
    "\n",
    "# Fit a linear regression model\n",
    "coefficients = np.polyfit(df_stand['income'], df_stand['Bird_rating'], 1)\n",
    "turtle_slope = coefficients[0]\n",
    "\n",
    "# Display the scatterplot\n",
    "plt.show()\n",
    "\n",
    "print('Bird Slope:', turtle_slope)"
   ]
  },
  {
   "cell_type": "code",
   "execution_count": 51,
   "metadata": {},
   "outputs": [
    {
     "data": {
      "image/png": "[encoded data removed]",
      "text/plain": [
       "<Figure size 432x288 with 1 Axes>"
      ]
     },
     "metadata": {
      "needs_background": "light"
     },
     "output_type": "display_data"
    }
   ],
   "source": [
    "# Create scatterplot with regression line\n",
    "sns.regplot(x='income', y='Bird_rating', data=df_stand, color='blue', scatter_kws={'color': 'black'})\n",
    "plt.xlabel('Income')\n",
    "plt.ylabel('Bird Rating')\n",
    "plt.title('Scatterplot of Bird Rating vs. Income')\n",
    "\n",
    "# Display the scatterplot with regression line\n",
    "plt.show()"
   ]
  },
  {
   "cell_type": "code",
   "execution_count": 52,
   "metadata": {},
   "outputs": [],
   "source": [
    "\n",
    "import scipy as sp\n",
    "import scipy.stats as stats\n",
    "import statsmodels.formula.api as smf\n",
    "import statsmodels.api as sm"
   ]
  },
  {
   "cell_type": "code",
   "execution_count": 53,
   "metadata": {},
   "outputs": [
    {
     "name": "stdout",
     "output_type": "stream",
     "text": [
      "                            OLS Regression Results                            \n",
      "==============================================================================\n",
      "Dep. Variable:            Bird_rating   R-squared:                       0.088\n",
      "Model:                            OLS   Adj. R-squared:                  0.020\n",
      "Method:                 Least Squares   F-statistic:                     1.303\n",
      "Date:                Thu, 01 Jun 2023   Prob (F-statistic):              0.288\n",
      "Time:                        15:05:53   Log-Likelihood:                -74.226\n",
      "No. Observations:                  30   AIC:                             154.5\n",
      "Df Residuals:                      27   BIC:                             158.7\n",
      "Df Model:                           2                                         \n",
      "Covariance Type:            nonrobust                                         \n",
      "==============================================================================\n",
      "                 coef    std err          t      P>|t|      [0.025      0.975]\n",
      "------------------------------------------------------------------------------\n",
      "Intercept      2.7718      3.337      0.831      0.413      -4.075       9.619\n",
      "age            0.0227      0.029      0.784      0.440      -0.037       0.082\n",
      "income     -5.789e-05   4.55e-05     -1.273      0.214      -0.000    3.54e-05\n",
      "==============================================================================\n",
      "Omnibus:                        5.281   Durbin-Watson:                   1.835\n",
      "Prob(Omnibus):                  0.071   Jarque-Bera (JB):                3.710\n",
      "Skew:                          -0.599   Prob(JB):                        0.156\n",
      "Kurtosis:                       4.237   Cond. No.                     3.86e+05\n",
      "==============================================================================\n",
      "\n",
      "Warnings:\n",
      "[1] Standard Errors assume that the covariance matrix of the errors is correctly specified.\n",
      "[2] The condition number is large, 3.86e+05. This might indicate that there are\n",
      "strong multicollinearity or other numerical problems.\n"
     ]
    }
   ],
   "source": [
    "predictors = ['age', 'income']\n",
    "model1 = smf.ols(formula='Bird_rating ~ age + income', data=df).fit()\n",
    "print(model1.summary())"
   ]
  },
  {
   "cell_type": "code",
   "execution_count": 55,
   "metadata": {},
   "outputs": [
    {
     "data": {
      "text/html": [
       "<div>\n",
       "<style scoped>\n",
       "    .dataframe tbody tr th:only-of-type {\n",
       "        vertical-align: middle;\n",
       "    }\n",
       "\n",
       "    .dataframe tbody tr th {\n",
       "        vertical-align: top;\n",
       "    }\n",
       "\n",
       "    .dataframe thead th {\n",
       "        text-align: right;\n",
       "    }\n",
       "</style>\n",
       "<table border=\"1\" class=\"dataframe\">\n",
       "  <thead>\n",
       "    <tr style=\"text-align: right;\">\n",
       "      <th></th>\n",
       "      <th>age</th>\n",
       "      <th>income</th>\n",
       "      <th>Bird_rating</th>\n",
       "    </tr>\n",
       "  </thead>\n",
       "  <tbody>\n",
       "    <tr>\n",
       "      <th>0</th>\n",
       "      <td>-0.549666</td>\n",
       "      <td>0.302668</td>\n",
       "      <td>1</td>\n",
       "    </tr>\n",
       "    <tr>\n",
       "      <th>1</th>\n",
       "      <td>-0.187817</td>\n",
       "      <td>-0.575259</td>\n",
       "      <td>-2</td>\n",
       "    </tr>\n",
       "    <tr>\n",
       "      <th>2</th>\n",
       "      <td>1.673121</td>\n",
       "      <td>0.871695</td>\n",
       "      <td>-1</td>\n",
       "    </tr>\n",
       "    <tr>\n",
       "      <th>3</th>\n",
       "      <td>0.122339</td>\n",
       "      <td>0.855437</td>\n",
       "      <td>-4</td>\n",
       "    </tr>\n",
       "    <tr>\n",
       "      <th>4</th>\n",
       "      <td>0.174032</td>\n",
       "      <td>0.782277</td>\n",
       "      <td>-4</td>\n",
       "    </tr>\n",
       "  </tbody>\n",
       "</table>\n",
       "</div>"
      ],
      "text/plain": [
       "        age    income  Bird_rating\n",
       "0 -0.549666  0.302668            1\n",
       "1 -0.187817 -0.575259           -2\n",
       "2  1.673121  0.871695           -1\n",
       "3  0.122339  0.855437           -4\n",
       "4  0.174032  0.782277           -4"
      ]
     },
     "execution_count": 55,
     "metadata": {},
     "output_type": "execute_result"
    }
   ],
   "source": [
    "df_stand.head()"
   ]
  },
  {
   "cell_type": "code",
   "execution_count": 56,
   "metadata": {},
   "outputs": [
    {
     "name": "stdout",
     "output_type": "stream",
     "text": [
      "                            OLS Regression Results                            \n",
      "==============================================================================\n",
      "Dep. Variable:            Bird_rating   R-squared:                       0.088\n",
      "Model:                            OLS   Adj. R-squared:                  0.020\n",
      "Method:                 Least Squares   F-statistic:                     1.303\n",
      "Date:                Thu, 01 Jun 2023   Prob (F-statistic):              0.288\n",
      "Time:                        15:06:24   Log-Likelihood:                -74.226\n",
      "No. Observations:                  30   AIC:                             154.5\n",
      "Df Residuals:                      27   BIC:                             158.7\n",
      "Df Model:                           2                                         \n",
      "Covariance Type:            nonrobust                                         \n",
      "==============================================================================\n",
      "                 coef    std err          t      P>|t|      [0.025      0.975]\n",
      "------------------------------------------------------------------------------\n",
      "Intercept      0.1333      0.553      0.241      0.811      -1.001       1.268\n",
      "age            0.4389      0.560      0.784      0.440      -0.709       1.587\n",
      "income        -0.7122      0.560     -1.273      0.214      -1.860       0.436\n",
      "==============================================================================\n",
      "Omnibus:                        5.281   Durbin-Watson:                   1.835\n",
      "Prob(Omnibus):                  0.071   Jarque-Bera (JB):                3.710\n",
      "Skew:                          -0.599   Prob(JB):                        0.156\n",
      "Kurtosis:                       4.237   Cond. No.                         1.17\n",
      "==============================================================================\n",
      "\n",
      "Warnings:\n",
      "[1] Standard Errors assume that the covariance matrix of the errors is correctly specified.\n"
     ]
    }
   ],
   "source": [
    "predictors = ['age', 'income']\n",
    "model1 = smf.ols(formula='Bird_rating ~ age + income', data=df_stand).fit()\n",
    "print(model1.summary())"
   ]
  },
  {
   "cell_type": "markdown",
   "metadata": {},
   "source": [
    "* A :- `a 1 unit increase in the standardized predictor represents a change of 1 standard deviation from the mean of the predictor variable.`\n",
    "\n"
   ]
  }
 ],
 "metadata": {
  "kernelspec": {
   "display_name": "Python 3",
   "language": "python",
   "name": "python3"
  },
  "language_info": {
   "codemirror_mode": {
    "name": "ipython",
    "version": 3
   },
   "file_extension": ".py",
   "mimetype": "text/x-python",
   "name": "python",
   "nbconvert_exporter": "python",
   "pygments_lexer": "ipython3",
   "version": "3.8.3"
  }
 },
 "nbformat": 4,
 "nbformat_minor": 4
}
